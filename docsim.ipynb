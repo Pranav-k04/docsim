{
 "cells": [
  {
   "cell_type": "code",
   "execution_count": null,
   "metadata": {},
   "outputs": [],
   "source": [
    "# %pip install spacy\n",
    "# %pip install pdfminer pdfminer.six\n",
    "%pip install PyPDF2 scikit-learn numpy"
   ]
  },
  {
   "cell_type": "code",
   "execution_count": 4,
   "metadata": {},
   "outputs": [],
   "source": [
    "# import spacy"
   ]
  },
  {
   "cell_type": "code",
   "execution_count": 11,
   "metadata": {},
   "outputs": [],
   "source": [
    "# nlp = spacy.load('de_core_news_md')"
   ]
  },
  {
   "cell_type": "code",
   "execution_count": 25,
   "metadata": {},
   "outputs": [],
   "source": [
    "import os\n",
    "from PyPDF2 import PdfReader\n",
    "from sklearn.feature_extraction.text import TfidfVectorizer\n",
    "from sklearn.metrics.pairwise import cosine_similarity\n",
    "import numpy as np"
   ]
  },
  {
   "cell_type": "code",
   "execution_count": 26,
   "metadata": {},
   "outputs": [],
   "source": [
    "def extract_text_from_pdf(pdf_path):\n",
    "    with open(pdf_path, 'rb') as file:\n",
    "        reader = PdfReader(file)\n",
    "        text = ''\n",
    "        for page in reader.pages:\n",
    "            text += page.extract_text()\n",
    "    return text"
   ]
  },
  {
   "cell_type": "code",
   "execution_count": 27,
   "metadata": {},
   "outputs": [],
   "source": [
    "def load_invoices(directory):\n",
    "    invoices = {}\n",
    "    for filename in os.listdir(directory):\n",
    "        if filename.endswith('.pdf'):\n",
    "            path = os.path.join(directory, filename)\n",
    "            invoices[filename] = extract_text_from_pdf(path)\n",
    "    return invoices"
   ]
  },
  {
   "cell_type": "code",
   "execution_count": 28,
   "metadata": {},
   "outputs": [],
   "source": [
    "def calculate_similarity(input_text, database_texts):\n",
    "    vectorizer = TfidfVectorizer()\n",
    "    all_texts = [input_text] + list(database_texts.values())\n",
    "    tfidf_matrix = vectorizer.fit_transform(all_texts)\n",
    "    \n",
    "    cosine_similarities = cosine_similarity(tfidf_matrix[0:1], tfidf_matrix[1:])\n",
    "    return cosine_similarities[0]"
   ]
  },
  {
   "cell_type": "code",
   "execution_count": 31,
   "metadata": {},
   "outputs": [
    {
     "data": {
      "text/plain": [
       "'c:\\\\Users\\\\konda\\\\Documents\\\\intern-ass\\\\doc-sim'"
      ]
     },
     "execution_count": 31,
     "metadata": {},
     "output_type": "execute_result"
    }
   ],
   "source": [
    "os.getcwd()"
   ]
  },
  {
   "cell_type": "code",
   "execution_count": 35,
   "metadata": {},
   "outputs": [
    {
     "name": "stdout",
     "output_type": "stream",
     "text": [
      "Test Invoice: invoice_102857.pdf\n",
      "Most Similar: invoice_102856.pdf\n",
      "Similarity Score: 0.7612\n",
      "\n",
      "Test Invoice: invoice_77098.pdf\n",
      "Most Similar: invoice_77073.pdf\n",
      "Similarity Score: 0.8101\n",
      "\n"
     ]
    }
   ],
   "source": [
    "def find_most_similar_invoice(input_invoice, database):\n",
    "    input_text = extract_text_from_pdf(input_invoice)\n",
    "    similarities = calculate_similarity(input_text, database)\n",
    "    \n",
    "    most_similar_index = np.argmax(similarities)\n",
    "    most_similar_filename = list(database.keys())[most_similar_index]\n",
    "    similarity_score = similarities[most_similar_index]\n",
    "    \n",
    "    return most_similar_filename, similarity_score\n",
    "\n",
    "# Main execution\n",
    "if __name__ == \"__main__\":\n",
    "    train_directory = os.getcwd()+'/train'\n",
    "    test_directory = os.getcwd()+'/test'\n",
    "    \n",
    "    # Load training invoices\n",
    "    invoice_database = load_invoices(train_directory)\n",
    "    \n",
    "    # Process test invoices\n",
    "    for test_invoice in os.listdir(test_directory):\n",
    "        if test_invoice.endswith('.pdf'):\n",
    "            test_invoice_path = os.path.join(test_directory, test_invoice)\n",
    "            most_similar, score = find_most_similar_invoice(test_invoice_path, invoice_database)\n",
    "            print(f\"Test Invoice: {test_invoice}\")\n",
    "            print(f\"Most Similar: {most_similar}\")\n",
    "            print(f\"Similarity Score: {score:.4f}\")\n",
    "            print()"
   ]
  },
  {
   "cell_type": "code",
   "execution_count": null,
   "metadata": {},
   "outputs": [],
   "source": []
  }
 ],
 "metadata": {
  "kernelspec": {
   "display_name": "Python 3",
   "language": "python",
   "name": "python3"
  },
  "language_info": {
   "codemirror_mode": {
    "name": "ipython",
    "version": 3
   },
   "file_extension": ".py",
   "mimetype": "text/x-python",
   "name": "python",
   "nbconvert_exporter": "python",
   "pygments_lexer": "ipython3",
   "version": "3.11.5"
  }
 },
 "nbformat": 4,
 "nbformat_minor": 2
}
